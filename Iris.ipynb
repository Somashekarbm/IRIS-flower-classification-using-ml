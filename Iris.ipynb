{
 "cells": [
  {
   "cell_type": "markdown",
   "metadata": {},
   "source": [
    "# IRIS FLOWER CLASSIFICATION"
   ]
  },
  {
   "cell_type": "code",
   "execution_count": 1,
   "metadata": {},
   "outputs": [],
   "source": [
    "import pandas as pd\n",
    "import numpy as np\n",
    "from sklearn.preprocessing import LabelEncoder\n",
    "from sklearn.model_selection import train_test_split\n",
    "from sklearn.preprocessing import StandardScaler\n",
    "from sklearn.linear_model import LogisticRegression\n",
    "from sklearn.metrics import accuracy_score, classification_report\n",
    "\n"
   ]
  },
  {
   "cell_type": "code",
   "execution_count": 31,
   "metadata": {},
   "outputs": [
    {
     "data": {
      "text/html": [
       "<div>\n",
       "<style scoped>\n",
       "    .dataframe tbody tr th:only-of-type {\n",
       "        vertical-align: middle;\n",
       "    }\n",
       "\n",
       "    .dataframe tbody tr th {\n",
       "        vertical-align: top;\n",
       "    }\n",
       "\n",
       "    .dataframe thead th {\n",
       "        text-align: right;\n",
       "    }\n",
       "</style>\n",
       "<table border=\"1\" class=\"dataframe\">\n",
       "  <thead>\n",
       "    <tr style=\"text-align: right;\">\n",
       "      <th></th>\n",
       "      <th>sepal_length</th>\n",
       "      <th>sepal_width</th>\n",
       "      <th>petal_length</th>\n",
       "      <th>petal_width</th>\n",
       "      <th>species</th>\n",
       "    </tr>\n",
       "  </thead>\n",
       "  <tbody>\n",
       "    <tr>\n",
       "      <th>0</th>\n",
       "      <td>5.1</td>\n",
       "      <td>3.5</td>\n",
       "      <td>1.4</td>\n",
       "      <td>0.2</td>\n",
       "      <td>Iris-setosa</td>\n",
       "    </tr>\n",
       "    <tr>\n",
       "      <th>1</th>\n",
       "      <td>4.9</td>\n",
       "      <td>3.0</td>\n",
       "      <td>1.4</td>\n",
       "      <td>0.2</td>\n",
       "      <td>Iris-setosa</td>\n",
       "    </tr>\n",
       "    <tr>\n",
       "      <th>2</th>\n",
       "      <td>4.7</td>\n",
       "      <td>3.2</td>\n",
       "      <td>1.3</td>\n",
       "      <td>0.2</td>\n",
       "      <td>Iris-setosa</td>\n",
       "    </tr>\n",
       "    <tr>\n",
       "      <th>3</th>\n",
       "      <td>4.6</td>\n",
       "      <td>3.1</td>\n",
       "      <td>1.5</td>\n",
       "      <td>0.2</td>\n",
       "      <td>Iris-setosa</td>\n",
       "    </tr>\n",
       "    <tr>\n",
       "      <th>4</th>\n",
       "      <td>5.0</td>\n",
       "      <td>3.6</td>\n",
       "      <td>1.4</td>\n",
       "      <td>0.2</td>\n",
       "      <td>Iris-setosa</td>\n",
       "    </tr>\n",
       "    <tr>\n",
       "      <th>...</th>\n",
       "      <td>...</td>\n",
       "      <td>...</td>\n",
       "      <td>...</td>\n",
       "      <td>...</td>\n",
       "      <td>...</td>\n",
       "    </tr>\n",
       "    <tr>\n",
       "      <th>145</th>\n",
       "      <td>6.7</td>\n",
       "      <td>3.0</td>\n",
       "      <td>5.2</td>\n",
       "      <td>2.3</td>\n",
       "      <td>Iris-virginica</td>\n",
       "    </tr>\n",
       "    <tr>\n",
       "      <th>146</th>\n",
       "      <td>6.3</td>\n",
       "      <td>2.5</td>\n",
       "      <td>5.0</td>\n",
       "      <td>1.9</td>\n",
       "      <td>Iris-virginica</td>\n",
       "    </tr>\n",
       "    <tr>\n",
       "      <th>147</th>\n",
       "      <td>6.5</td>\n",
       "      <td>3.0</td>\n",
       "      <td>5.2</td>\n",
       "      <td>2.0</td>\n",
       "      <td>Iris-virginica</td>\n",
       "    </tr>\n",
       "    <tr>\n",
       "      <th>148</th>\n",
       "      <td>6.2</td>\n",
       "      <td>3.4</td>\n",
       "      <td>5.4</td>\n",
       "      <td>2.3</td>\n",
       "      <td>Iris-virginica</td>\n",
       "    </tr>\n",
       "    <tr>\n",
       "      <th>149</th>\n",
       "      <td>5.9</td>\n",
       "      <td>3.0</td>\n",
       "      <td>5.1</td>\n",
       "      <td>1.8</td>\n",
       "      <td>Iris-virginica</td>\n",
       "    </tr>\n",
       "  </tbody>\n",
       "</table>\n",
       "<p>150 rows × 5 columns</p>\n",
       "</div>"
      ],
      "text/plain": [
       "     sepal_length  sepal_width  petal_length  petal_width         species\n",
       "0             5.1          3.5           1.4          0.2     Iris-setosa\n",
       "1             4.9          3.0           1.4          0.2     Iris-setosa\n",
       "2             4.7          3.2           1.3          0.2     Iris-setosa\n",
       "3             4.6          3.1           1.5          0.2     Iris-setosa\n",
       "4             5.0          3.6           1.4          0.2     Iris-setosa\n",
       "..            ...          ...           ...          ...             ...\n",
       "145           6.7          3.0           5.2          2.3  Iris-virginica\n",
       "146           6.3          2.5           5.0          1.9  Iris-virginica\n",
       "147           6.5          3.0           5.2          2.0  Iris-virginica\n",
       "148           6.2          3.4           5.4          2.3  Iris-virginica\n",
       "149           5.9          3.0           5.1          1.8  Iris-virginica\n",
       "\n",
       "[150 rows x 5 columns]"
      ]
     },
     "execution_count": 31,
     "metadata": {},
     "output_type": "execute_result"
    }
   ],
   "source": [
    "df=pd.read_csv('./IRIS.csv')\n",
    "df"
   ]
  },
  {
   "cell_type": "code",
   "execution_count": 3,
   "metadata": {},
   "outputs": [
    {
     "name": "stdout",
     "output_type": "stream",
     "text": [
      "<class 'pandas.core.frame.DataFrame'>\n",
      "RangeIndex: 150 entries, 0 to 149\n",
      "Data columns (total 5 columns):\n",
      " #   Column        Non-Null Count  Dtype  \n",
      "---  ------        --------------  -----  \n",
      " 0   sepal_length  150 non-null    float64\n",
      " 1   sepal_width   150 non-null    float64\n",
      " 2   petal_length  150 non-null    float64\n",
      " 3   petal_width   150 non-null    float64\n",
      " 4   species       150 non-null    object \n",
      "dtypes: float64(4), object(1)\n",
      "memory usage: 6.0+ KB\n"
     ]
    }
   ],
   "source": [
    "df.info()"
   ]
  },
  {
   "cell_type": "code",
   "execution_count": 4,
   "metadata": {},
   "outputs": [
    {
     "data": {
      "text/plain": [
       "(150, 5)"
      ]
     },
     "execution_count": 4,
     "metadata": {},
     "output_type": "execute_result"
    }
   ],
   "source": [
    "df.shape"
   ]
  },
  {
   "cell_type": "code",
   "execution_count": 5,
   "metadata": {},
   "outputs": [
    {
     "data": {
      "text/plain": [
       "sepal_length    0\n",
       "sepal_width     0\n",
       "petal_length    0\n",
       "petal_width     0\n",
       "species         0\n",
       "dtype: int64"
      ]
     },
     "execution_count": 5,
     "metadata": {},
     "output_type": "execute_result"
    }
   ],
   "source": [
    "df.isna().sum()"
   ]
  },
  {
   "cell_type": "code",
   "execution_count": 6,
   "metadata": {},
   "outputs": [
    {
     "data": {
      "text/html": [
       "<div>\n",
       "<style scoped>\n",
       "    .dataframe tbody tr th:only-of-type {\n",
       "        vertical-align: middle;\n",
       "    }\n",
       "\n",
       "    .dataframe tbody tr th {\n",
       "        vertical-align: top;\n",
       "    }\n",
       "\n",
       "    .dataframe thead th {\n",
       "        text-align: right;\n",
       "    }\n",
       "</style>\n",
       "<table border=\"1\" class=\"dataframe\">\n",
       "  <thead>\n",
       "    <tr style=\"text-align: right;\">\n",
       "      <th></th>\n",
       "      <th>sepal_length</th>\n",
       "      <th>sepal_width</th>\n",
       "      <th>petal_length</th>\n",
       "      <th>petal_width</th>\n",
       "    </tr>\n",
       "  </thead>\n",
       "  <tbody>\n",
       "    <tr>\n",
       "      <th>0</th>\n",
       "      <td>5.1</td>\n",
       "      <td>3.5</td>\n",
       "      <td>1.4</td>\n",
       "      <td>0.2</td>\n",
       "    </tr>\n",
       "    <tr>\n",
       "      <th>1</th>\n",
       "      <td>4.9</td>\n",
       "      <td>3.0</td>\n",
       "      <td>1.4</td>\n",
       "      <td>0.2</td>\n",
       "    </tr>\n",
       "    <tr>\n",
       "      <th>2</th>\n",
       "      <td>4.7</td>\n",
       "      <td>3.2</td>\n",
       "      <td>1.3</td>\n",
       "      <td>0.2</td>\n",
       "    </tr>\n",
       "    <tr>\n",
       "      <th>3</th>\n",
       "      <td>4.6</td>\n",
       "      <td>3.1</td>\n",
       "      <td>1.5</td>\n",
       "      <td>0.2</td>\n",
       "    </tr>\n",
       "    <tr>\n",
       "      <th>4</th>\n",
       "      <td>5.0</td>\n",
       "      <td>3.6</td>\n",
       "      <td>1.4</td>\n",
       "      <td>0.2</td>\n",
       "    </tr>\n",
       "    <tr>\n",
       "      <th>...</th>\n",
       "      <td>...</td>\n",
       "      <td>...</td>\n",
       "      <td>...</td>\n",
       "      <td>...</td>\n",
       "    </tr>\n",
       "    <tr>\n",
       "      <th>145</th>\n",
       "      <td>6.7</td>\n",
       "      <td>3.0</td>\n",
       "      <td>5.2</td>\n",
       "      <td>2.3</td>\n",
       "    </tr>\n",
       "    <tr>\n",
       "      <th>146</th>\n",
       "      <td>6.3</td>\n",
       "      <td>2.5</td>\n",
       "      <td>5.0</td>\n",
       "      <td>1.9</td>\n",
       "    </tr>\n",
       "    <tr>\n",
       "      <th>147</th>\n",
       "      <td>6.5</td>\n",
       "      <td>3.0</td>\n",
       "      <td>5.2</td>\n",
       "      <td>2.0</td>\n",
       "    </tr>\n",
       "    <tr>\n",
       "      <th>148</th>\n",
       "      <td>6.2</td>\n",
       "      <td>3.4</td>\n",
       "      <td>5.4</td>\n",
       "      <td>2.3</td>\n",
       "    </tr>\n",
       "    <tr>\n",
       "      <th>149</th>\n",
       "      <td>5.9</td>\n",
       "      <td>3.0</td>\n",
       "      <td>5.1</td>\n",
       "      <td>1.8</td>\n",
       "    </tr>\n",
       "  </tbody>\n",
       "</table>\n",
       "<p>150 rows × 4 columns</p>\n",
       "</div>"
      ],
      "text/plain": [
       "     sepal_length  sepal_width  petal_length  petal_width\n",
       "0             5.1          3.5           1.4          0.2\n",
       "1             4.9          3.0           1.4          0.2\n",
       "2             4.7          3.2           1.3          0.2\n",
       "3             4.6          3.1           1.5          0.2\n",
       "4             5.0          3.6           1.4          0.2\n",
       "..            ...          ...           ...          ...\n",
       "145           6.7          3.0           5.2          2.3\n",
       "146           6.3          2.5           5.0          1.9\n",
       "147           6.5          3.0           5.2          2.0\n",
       "148           6.2          3.4           5.4          2.3\n",
       "149           5.9          3.0           5.1          1.8\n",
       "\n",
       "[150 rows x 4 columns]"
      ]
     },
     "execution_count": 6,
     "metadata": {},
     "output_type": "execute_result"
    }
   ],
   "source": [
    "df_num=df.select_dtypes(include=np.number)\n",
    "df_num"
   ]
  },
  {
   "cell_type": "code",
   "execution_count": 7,
   "metadata": {},
   "outputs": [
    {
     "data": {
      "text/plain": [
       "sepal_length    0.314911\n",
       "sepal_width     0.334053\n",
       "petal_length   -0.274464\n",
       "petal_width    -0.104997\n",
       "dtype: float64"
      ]
     },
     "execution_count": 7,
     "metadata": {},
     "output_type": "execute_result"
    }
   ],
   "source": [
    "df_num.skew()"
   ]
  },
  {
   "cell_type": "code",
   "execution_count": 8,
   "metadata": {},
   "outputs": [
    {
     "data": {
      "text/plain": [
       "array(['Iris-setosa', 'Iris-versicolor', 'Iris-virginica'], dtype=object)"
      ]
     },
     "execution_count": 8,
     "metadata": {},
     "output_type": "execute_result"
    }
   ],
   "source": [
    "df.species.unique()"
   ]
  },
  {
   "cell_type": "markdown",
   "metadata": {},
   "source": [
    "# Preprocessing "
   ]
  },
  {
   "cell_type": "code",
   "execution_count": 9,
   "metadata": {},
   "outputs": [
    {
     "data": {
      "text/plain": [
       "array([0, 0, 0, 0, 0, 0, 0, 0, 0, 0, 0, 0, 0, 0, 0, 0, 0, 0, 0, 0, 0, 0,\n",
       "       0, 0, 0, 0, 0, 0, 0, 0, 0, 0, 0, 0, 0, 0, 0, 0, 0, 0, 0, 0, 0, 0,\n",
       "       0, 0, 0, 0, 0, 0, 1, 1, 1, 1, 1, 1, 1, 1, 1, 1, 1, 1, 1, 1, 1, 1,\n",
       "       1, 1, 1, 1, 1, 1, 1, 1, 1, 1, 1, 1, 1, 1, 1, 1, 1, 1, 1, 1, 1, 1,\n",
       "       1, 1, 1, 1, 1, 1, 1, 1, 1, 1, 1, 1, 2, 2, 2, 2, 2, 2, 2, 2, 2, 2,\n",
       "       2, 2, 2, 2, 2, 2, 2, 2, 2, 2, 2, 2, 2, 2, 2, 2, 2, 2, 2, 2, 2, 2,\n",
       "       2, 2, 2, 2, 2, 2, 2, 2, 2, 2, 2, 2, 2, 2, 2, 2, 2, 2])"
      ]
     },
     "execution_count": 9,
     "metadata": {},
     "output_type": "execute_result"
    }
   ],
   "source": [
    "\n",
    "label_encoder = LabelEncoder()\n",
    "df_species_encoded= label_encoder.fit_transform(df['species'])\n",
    "df_species_encoded"
   ]
  },
  {
   "cell_type": "code",
   "execution_count": 10,
   "metadata": {},
   "outputs": [
    {
     "data": {
      "image/png": "[encoded data removed]",
      "text/plain": [
       "<Figure size 640x480 with 4 Axes>"
      ]
     },
     "metadata": {},
     "output_type": "display_data"
    }
   ],
   "source": [
    "import matplotlib.pyplot as plt\n",
    "\n",
    "df.plot(kind='density', subplots=True, sharex=False, layout=(2,2))\n",
    "plt.show()"
   ]
  },
  {
   "cell_type": "code",
   "execution_count": 11,
   "metadata": {},
   "outputs": [
    {
     "data": {
      "text/plain": [
       "array([[-0.89568956,  1.03519074, -1.33331222, -1.32913026],\n",
       "       [-1.18517298, -0.0736376 , -1.33331222, -1.32913026],\n",
       "       [-1.48792061,  0.38549737, -1.38700221, -1.32913026],\n",
       "       [-1.64460909,  0.15869735, -1.27941381, -1.32913026],\n",
       "       [-1.03883758,  1.24227114, -1.33331222, -1.32913026],\n",
       "       [-0.48420122,  1.8378223 , -1.17102145, -1.04639815],\n",
       "       [-1.64460909,  0.82351094, -1.33331222, -1.18691602],\n",
       "       [-1.03883758,  0.82351094, -1.27941381, -1.32913026],\n",
       "       [-1.9693691 , -0.31178612, -1.33331222, -1.32913026],\n",
       "       [-1.18517298,  0.15869735, -1.27941381, -1.4732057 ],\n",
       "       [-0.48420122,  1.44494886, -1.27941381, -1.32913026],\n",
       "       [-1.3348226 ,  0.82351094, -1.22531454, -1.32913026],\n",
       "       [-1.3348226 , -0.0736376 , -1.33331222, -1.4732057 ],\n",
       "       [-2.13777024, -0.0736376 , -1.49372334, -1.4732057 ],\n",
       "       [ 0.02642955,  2.02835353, -1.44047555, -1.32913026],\n",
       "       [-0.09743879,  2.7545796 , -1.27941381, -1.04639815],\n",
       "       [-0.48420122,  1.8378223 , -1.38700221, -1.04639815],\n",
       "       [-0.89568956,  1.03519074, -1.33331222, -1.18691602],\n",
       "       [-0.09743879,  1.64340825, -1.17102145, -1.18691602],\n",
       "       [-0.89568956,  1.64340825, -1.27941381, -1.18691602],\n",
       "       [-0.48420122,  0.82351094, -1.17102145, -1.32913026],\n",
       "       [-0.89568956,  1.44494886, -1.27941381, -1.04639815],\n",
       "       [-1.64460909,  1.24227114, -1.54673584, -1.32913026],\n",
       "       [-0.89568956,  0.60702149, -1.17102145, -0.90743712],\n",
       "       [-1.3348226 ,  0.82351094, -1.06187943, -1.32913026],\n",
       "       [-1.03883758, -0.0736376 , -1.22531454, -1.32913026],\n",
       "       [-1.03883758,  0.82351094, -1.22531454, -1.04639815],\n",
       "       [-0.75560892,  1.03519074, -1.27941381, -1.32913026],\n",
       "       [-0.75560892,  0.82351094, -1.33331222, -1.32913026],\n",
       "       [-1.48792061,  0.38549737, -1.22531454, -1.32913026],\n",
       "       [-1.3348226 ,  0.15869735, -1.22531454, -1.32913026],\n",
       "       [-0.48420122,  0.82351094, -1.27941381, -1.04639815],\n",
       "       [-0.75560892,  2.21515488, -1.27941381, -1.4732057 ],\n",
       "       [-0.35266426,  2.39837038, -1.33331222, -1.32913026],\n",
       "       [-1.18517298,  0.15869735, -1.27941381, -1.4732057 ],\n",
       "       [-1.03883758,  0.38549737, -1.44047555, -1.32913026],\n",
       "       [-0.35266426,  1.03519074, -1.38700221, -1.32913026],\n",
       "       [-1.18517298,  0.15869735, -1.27941381, -1.4732057 ],\n",
       "       [-1.9693691 , -0.0736376 , -1.38700221, -1.32913026],\n",
       "       [-0.89568956,  0.82351094, -1.27941381, -1.32913026],\n",
       "       [-1.03883758,  1.03519074, -1.38700221, -1.18691602],\n",
       "       [-1.80503864, -1.88140903, -1.38700221, -1.18691602],\n",
       "       [-1.9693691 ,  0.38549737, -1.38700221, -1.32913026],\n",
       "       [-1.03883758,  1.03519074, -1.22531454, -0.76991342],\n",
       "       [-0.89568956,  1.64340825, -1.06187943, -1.04639815],\n",
       "       [-1.3348226 , -0.0736376 , -1.33331222, -1.18691602],\n",
       "       [-0.89568956,  1.64340825, -1.22531454, -1.32913026],\n",
       "       [-1.64460909,  0.38549737, -1.33331222, -1.32913026],\n",
       "       [-0.61848205,  1.44494886, -1.27941381, -1.32913026],\n",
       "       [-1.03883758,  0.60702149, -1.33331222, -1.32913026],\n",
       "       [ 1.34723688,  0.38549737,  0.52586519,  0.28868653],\n",
       "       [ 0.72223711,  0.38549737,  0.40945713,  0.41673793],\n",
       "       [ 1.24745163,  0.15869735,  0.64265366,  0.41673793],\n",
       "       [-0.35266426, -1.88140903,  0.12018574,  0.15980072],\n",
       "       [ 0.83096487, -0.55604847,  0.46761285,  0.41673793],\n",
       "       [-0.09743879, -0.55604847,  0.40945713,  0.15980072],\n",
       "       [ 0.61155056,  0.60702149,  0.52586519,  0.5439934 ],\n",
       "       [-1.18517298, -1.6011364 , -0.28023161, -0.23230555],\n",
       "       [ 0.93779392, -0.31178612,  0.46761285,  0.15980072],\n",
       "       [-0.75560892, -0.80674883,  0.06264531,  0.28868653],\n",
       "       [-1.03883758, -2.77557448, -0.16640465, -0.23230555],\n",
       "       [ 0.14791425, -0.0736376 ,  0.23558596,  0.41673793],\n",
       "       [ 0.26709474, -2.1702054 ,  0.12018574, -0.23230555],\n",
       "       [ 0.38404671, -0.31178612,  0.52586519,  0.28868653],\n",
       "       [-0.22377418, -0.31178612, -0.10931321,  0.15980072],\n",
       "       [ 1.04278176,  0.15869735,  0.35139963,  0.28868653],\n",
       "       [-0.22377418, -0.0736376 ,  0.40945713,  0.41673793],\n",
       "       [ 0.02642955, -0.80674883,  0.17783326, -0.23230555],\n",
       "       [ 0.49884235, -2.1702054 ,  0.40945713,  0.41673793],\n",
       "       [-0.22377418, -1.32889606,  0.06264531, -0.1006467 ],\n",
       "       [ 0.14791425,  0.38549737,  0.58421263,  0.7962549 ],\n",
       "       [ 0.38404671, -0.55604847,  0.12018574,  0.15980072],\n",
       "       [ 0.61155056, -1.32889606,  0.64265366,  0.41673793],\n",
       "       [ 0.38404671, -0.55604847,  0.52586519,  0.03003839],\n",
       "       [ 0.72223711, -0.31178612,  0.29344201,  0.15980072],\n",
       "       [ 0.93779392, -0.0736376 ,  0.35139963,  0.28868653],\n",
       "       [ 1.14598343, -0.55604847,  0.58421263,  0.28868653],\n",
       "       [ 1.04278176, -0.0736376 ,  0.70118686,  0.67048822],\n",
       "       [ 0.26709474, -0.31178612,  0.40945713,  0.41673793],\n",
       "       [-0.09743879, -1.06423794, -0.16640465, -0.23230555],\n",
       "       [-0.35266426, -1.6011364 ,  0.00521396, -0.1006467 ],\n",
       "       [-0.35266426, -1.6011364 , -0.05210626, -0.23230555],\n",
       "       [ 0.02642955, -0.80674883,  0.06264531,  0.03003839],\n",
       "       [ 0.26709474, -0.80674883,  0.75981083,  0.5439934 ],\n",
       "       [-0.48420122, -0.0736376 ,  0.40945713,  0.41673793],\n",
       "       [ 0.26709474,  0.82351094,  0.40945713,  0.5439934 ],\n",
       "       [ 1.04278176,  0.15869735,  0.52586519,  0.41673793],\n",
       "       [ 0.61155056, -1.88140903,  0.35139963,  0.15980072],\n",
       "       [-0.22377418, -0.0736376 ,  0.17783326,  0.15980072],\n",
       "       [-0.35266426, -1.32889606,  0.12018574,  0.15980072],\n",
       "       [-0.35266426, -1.06423794,  0.35139963,  0.03003839],\n",
       "       [ 0.38404671, -0.0736376 ,  0.46761285,  0.28868653],\n",
       "       [ 0.02642955, -1.06423794,  0.12018574,  0.03003839],\n",
       "       [-1.03883758, -1.88140903, -0.28023161, -0.23230555],\n",
       "       [-0.22377418, -0.80674883,  0.23558596,  0.15980072],\n",
       "       [-0.09743879, -0.0736376 ,  0.23558596,  0.03003839],\n",
       "       [-0.09743879, -0.31178612,  0.23558596,  0.15980072],\n",
       "       [ 0.49884235, -0.31178612,  0.29344201,  0.15980072],\n",
       "       [-0.89568956, -1.32889606, -0.45004418, -0.1006467 ],\n",
       "       [-0.09743879, -0.55604847,  0.17783326,  0.15980072],\n",
       "       [ 0.61155056,  0.60702149,  1.29130101,  1.65849888],\n",
       "       [ 0.02642955, -0.80674883,  0.75981083,  0.9213234 ],\n",
       "       [ 1.44538761, -0.0736376 ,  1.23191632,  1.16947496],\n",
       "       [ 0.61155056, -0.31178612,  1.05424629,  0.7962549 ],\n",
       "       [ 0.83096487, -0.0736376 ,  1.17261159,  1.29260778],\n",
       "       [ 1.91318634, -0.0736376 ,  1.64923214,  1.16947496],\n",
       "       [-1.18517298, -1.32889606,  0.40945713,  0.67048822],\n",
       "       [ 1.63696951, -0.31178612,  1.46992462,  0.7962549 ],\n",
       "       [ 1.04278176, -1.32889606,  1.17261159,  0.7962549 ],\n",
       "       [ 1.54195029,  1.24227114,  1.35076463,  1.65849888],\n",
       "       [ 0.83096487,  0.38549737,  0.75981083,  1.0457215 ],\n",
       "       [ 0.72223711, -0.80674883,  0.8773257 ,  0.9213234 ],\n",
       "       [ 1.14598343, -0.0736376 ,  0.99518795,  1.16947496],\n",
       "       [-0.09743879, -1.32889606,  0.70118686,  1.0457215 ],\n",
       "       [ 0.02642955, -0.55604847,  0.75981083,  1.53709949],\n",
       "       [ 0.72223711,  0.38549737,  0.8773257 ,  1.41514232],\n",
       "       [ 0.83096487, -0.0736376 ,  0.99518795,  0.7962549 ],\n",
       "       [ 2.00244359,  1.64340825,  1.709149  ,  1.29260778],\n",
       "       [ 2.00244359, -1.06423794,  1.82919903,  1.41514232],\n",
       "       [ 0.26709474, -2.1702054 ,  0.70118686,  0.41673793],\n",
       "       [ 1.24745163,  0.38549737,  1.11338788,  1.41514232],\n",
       "       [-0.22377418, -0.55604847,  0.64265366,  1.0457215 ],\n",
       "       [ 2.00244359, -0.55604847,  1.709149  ,  1.0457215 ],\n",
       "       [ 0.61155056, -0.80674883,  0.64265366,  0.7962549 ],\n",
       "       [ 1.04278176,  0.60702149,  1.11338788,  1.16947496],\n",
       "       [ 1.54195029,  0.38549737,  1.29130101,  0.7962549 ],\n",
       "       [ 0.49884235, -0.55604847,  0.58421263,  0.7962549 ],\n",
       "       [ 0.38404671, -0.0736376 ,  0.64265366,  0.7962549 ],\n",
       "       [ 0.72223711, -0.55604847,  1.05424629,  1.16947496],\n",
       "       [ 1.54195029, -0.0736376 ,  1.17261159,  0.5439934 ],\n",
       "       [ 1.73048809, -0.55604847,  1.35076463,  0.9213234 ],\n",
       "       [ 2.17695738,  1.64340825,  1.52961905,  1.0457215 ],\n",
       "       [ 0.72223711, -0.55604847,  1.05424629,  1.29260778],\n",
       "       [ 0.61155056, -0.55604847,  0.75981083,  0.41673793],\n",
       "       [ 0.38404671, -1.06423794,  1.05424629,  0.28868653],\n",
       "       [ 2.00244359, -0.0736376 ,  1.35076463,  1.41514232],\n",
       "       [ 0.61155056,  0.82351094,  1.05424629,  1.53709949],\n",
       "       [ 0.72223711,  0.15869735,  0.99518795,  0.7962549 ],\n",
       "       [ 0.26709474, -0.0736376 ,  0.58421263,  0.7962549 ],\n",
       "       [ 1.24745163,  0.15869735,  0.93621402,  1.16947496],\n",
       "       [ 1.04278176,  0.15869735,  1.05424629,  1.53709949],\n",
       "       [ 1.24745163,  0.15869735,  0.75981083,  1.41514232],\n",
       "       [ 0.02642955, -0.80674883,  0.75981083,  0.9213234 ],\n",
       "       [ 1.14598343,  0.38549737,  1.23191632,  1.41514232],\n",
       "       [ 1.04278176,  0.60702149,  1.11338788,  1.65849888],\n",
       "       [ 1.04278176, -0.0736376 ,  0.81852421,  1.41514232],\n",
       "       [ 0.61155056, -1.32889606,  0.70118686,  0.9213234 ],\n",
       "       [ 0.83096487, -0.0736376 ,  0.81852421,  1.0457215 ],\n",
       "       [ 0.49884235,  0.82351094,  0.93621402,  1.41514232],\n",
       "       [ 0.14791425, -0.0736376 ,  0.75981083,  0.7962549 ]])"
      ]
     },
     "execution_count": 11,
     "metadata": {},
     "output_type": "execute_result"
    }
   ],
   "source": [
    "from sklearn.preprocessing import PowerTransformer\n",
    "power_transform=PowerTransformer()\n",
    "pt=power_transform.fit_transform(df[['sepal_length','sepal_width', 'petal_length', 'petal_width']])\n",
    "pt\n"
   ]
  },
  {
   "cell_type": "code",
   "execution_count": 12,
   "metadata": {},
   "outputs": [
    {
     "data": {
      "text/html": [
       "<div>\n",
       "<style scoped>\n",
       "    .dataframe tbody tr th:only-of-type {\n",
       "        vertical-align: middle;\n",
       "    }\n",
       "\n",
       "    .dataframe tbody tr th {\n",
       "        vertical-align: top;\n",
       "    }\n",
       "\n",
       "    .dataframe thead th {\n",
       "        text-align: right;\n",
       "    }\n",
       "</style>\n",
       "<table border=\"1\" class=\"dataframe\">\n",
       "  <thead>\n",
       "    <tr style=\"text-align: right;\">\n",
       "      <th></th>\n",
       "      <th>sepal_length</th>\n",
       "      <th>sepal_width</th>\n",
       "      <th>petal_length</th>\n",
       "      <th>petal_width</th>\n",
       "    </tr>\n",
       "  </thead>\n",
       "  <tbody>\n",
       "    <tr>\n",
       "      <th>0</th>\n",
       "      <td>-0.895690</td>\n",
       "      <td>1.035191</td>\n",
       "      <td>-1.333312</td>\n",
       "      <td>-1.32913</td>\n",
       "    </tr>\n",
       "    <tr>\n",
       "      <th>1</th>\n",
       "      <td>-1.185173</td>\n",
       "      <td>-0.073638</td>\n",
       "      <td>-1.333312</td>\n",
       "      <td>-1.32913</td>\n",
       "    </tr>\n",
       "    <tr>\n",
       "      <th>2</th>\n",
       "      <td>-1.487921</td>\n",
       "      <td>0.385497</td>\n",
       "      <td>-1.387002</td>\n",
       "      <td>-1.32913</td>\n",
       "    </tr>\n",
       "    <tr>\n",
       "      <th>3</th>\n",
       "      <td>-1.644609</td>\n",
       "      <td>0.158697</td>\n",
       "      <td>-1.279414</td>\n",
       "      <td>-1.32913</td>\n",
       "    </tr>\n",
       "    <tr>\n",
       "      <th>4</th>\n",
       "      <td>-1.038838</td>\n",
       "      <td>1.242271</td>\n",
       "      <td>-1.333312</td>\n",
       "      <td>-1.32913</td>\n",
       "    </tr>\n",
       "  </tbody>\n",
       "</table>\n",
       "</div>"
      ],
      "text/plain": [
       "   sepal_length  sepal_width  petal_length  petal_width\n",
       "0     -0.895690     1.035191     -1.333312     -1.32913\n",
       "1     -1.185173    -0.073638     -1.333312     -1.32913\n",
       "2     -1.487921     0.385497     -1.387002     -1.32913\n",
       "3     -1.644609     0.158697     -1.279414     -1.32913\n",
       "4     -1.038838     1.242271     -1.333312     -1.32913"
      ]
     },
     "execution_count": 12,
     "metadata": {},
     "output_type": "execute_result"
    }
   ],
   "source": [
    "df_pt=pd.DataFrame(data=pt,columns=df_num.columns)\n",
    "df_pt.head()"
   ]
  },
  {
   "cell_type": "code",
   "execution_count": 13,
   "metadata": {},
   "outputs": [
    {
     "data": {
      "text/plain": [
       "sepal_length    0.009869\n",
       "sepal_width     0.000039\n",
       "petal_length   -0.246172\n",
       "petal_width    -0.157775\n",
       "dtype: float64"
      ]
     },
     "execution_count": 13,
     "metadata": {},
     "output_type": "execute_result"
    }
   ],
   "source": [
    "df_pt.skew()"
   ]
  },
  {
   "cell_type": "code",
   "execution_count": 14,
   "metadata": {},
   "outputs": [
    {
     "data": {
      "image/png": "[encoded data removed]",
      "text/plain": [
       "<Figure size 640x480 with 4 Axes>"
      ]
     },
     "metadata": {},
     "output_type": "display_data"
    }
   ],
   "source": [
    "\n",
    "df_pt.plot(kind='density', subplots=True, sharex=False, layout=(2,2))\n",
    "plt.show()"
   ]
  },
  {
   "cell_type": "markdown",
   "metadata": {},
   "source": [
    "# SPLITTING THE DATA"
   ]
  },
  {
   "cell_type": "code",
   "execution_count": 15,
   "metadata": {},
   "outputs": [],
   "source": [
    "X=df_pt\n",
    "\n",
    "\n",
    "y=df_species_encoded\n"
   ]
  },
  {
   "cell_type": "code",
   "execution_count": 16,
   "metadata": {},
   "outputs": [
    {
     "name": "stdout",
     "output_type": "stream",
     "text": [
      "X TRAIN (105, 4)\n",
      "X TEST (45, 4)\n",
      "y TRAIN (105,)\n",
      "y Test (45,)\n"
     ]
    }
   ],
   "source": [
    "X_train, X_test, y_train, y_test=train_test_split(X, y, test_size=0.3, random_state=5)\n",
    "print('X TRAIN',X_train.shape)\n",
    "print('X TEST',X_test.shape)\n",
    "print('y TRAIN',y_train.shape)\n",
    "print('y Test',y_test.shape)"
   ]
  },
  {
   "cell_type": "code",
   "execution_count": 17,
   "metadata": {},
   "outputs": [],
   "source": [
    "scaler = StandardScaler()\n",
    "X_train = scaler.fit_transform(X_train)\n",
    "X_test = scaler.transform(X_test)\n"
   ]
  },
  {
   "cell_type": "markdown",
   "metadata": {},
   "source": [
    "# MODEL BUILDING and TRAINING"
   ]
  },
  {
   "cell_type": "code",
   "execution_count": 18,
   "metadata": {},
   "outputs": [
    {
     "data": {
      "text/html": [
       "<style>#sk-container-id-1 {color: black;}#sk-container-id-1 pre{padding: 0;}#sk-container-id-1 div.sk-toggleable {background-color: white;}#sk-container-id-1 label.sk-toggleable__label {cursor: pointer;display: block;width: 100%;margin-bottom: 0;padding: 0.3em;box-sizing: border-box;text-align: center;}#sk-container-id-1 label.sk-toggleable__label-arrow:before {content: \"▸\";float: left;margin-right: 0.25em;color: #696969;}#sk-container-id-1 label.sk-toggleable__label-arrow:hover:before {color: black;}#sk-container-id-1 div.sk-estimator:hover label.sk-toggleable__label-arrow:before {color: black;}#sk-container-id-1 div.sk-toggleable__content {max-height: 0;max-width: 0;overflow: hidden;text-align: left;background-color: #f0f8ff;}#sk-container-id-1 div.sk-toggleable__content pre {margin: 0.2em;color: black;border-radius: 0.25em;background-color: #f0f8ff;}#sk-container-id-1 input.sk-toggleable__control:checked~div.sk-toggleable__content {max-height: 200px;max-width: 100%;overflow: auto;}#sk-container-id-1 input.sk-toggleable__control:checked~label.sk-toggleable__label-arrow:before {content: \"▾\";}#sk-container-id-1 div.sk-estimator input.sk-toggleable__control:checked~label.sk-toggleable__label {background-color: #d4ebff;}#sk-container-id-1 div.sk-label input.sk-toggleable__control:checked~label.sk-toggleable__label {background-color: #d4ebff;}#sk-container-id-1 input.sk-hidden--visually {border: 0;clip: rect(1px 1px 1px 1px);clip: rect(1px, 1px, 1px, 1px);height: 1px;margin: -1px;overflow: hidden;padding: 0;position: absolute;width: 1px;}#sk-container-id-1 div.sk-estimator {font-family: monospace;background-color: #f0f8ff;border: 1px dotted black;border-radius: 0.25em;box-sizing: border-box;margin-bottom: 0.5em;}#sk-container-id-1 div.sk-estimator:hover {background-color: #d4ebff;}#sk-container-id-1 div.sk-parallel-item::after {content: \"\";width: 100%;border-bottom: 1px solid gray;flex-grow: 1;}#sk-container-id-1 div.sk-label:hover label.sk-toggleable__label {background-color: #d4ebff;}#sk-container-id-1 div.sk-serial::before {content: \"\";position: absolute;border-left: 1px solid gray;box-sizing: border-box;top: 0;bottom: 0;left: 50%;z-index: 0;}#sk-container-id-1 div.sk-serial {display: flex;flex-direction: column;align-items: center;background-color: white;padding-right: 0.2em;padding-left: 0.2em;position: relative;}#sk-container-id-1 div.sk-item {position: relative;z-index: 1;}#sk-container-id-1 div.sk-parallel {display: flex;align-items: stretch;justify-content: center;background-color: white;position: relative;}#sk-container-id-1 div.sk-item::before, #sk-container-id-1 div.sk-parallel-item::before {content: \"\";position: absolute;border-left: 1px solid gray;box-sizing: border-box;top: 0;bottom: 0;left: 50%;z-index: -1;}#sk-container-id-1 div.sk-parallel-item {display: flex;flex-direction: column;z-index: 1;position: relative;background-color: white;}#sk-container-id-1 div.sk-parallel-item:first-child::after {align-self: flex-end;width: 50%;}#sk-container-id-1 div.sk-parallel-item:last-child::after {align-self: flex-start;width: 50%;}#sk-container-id-1 div.sk-parallel-item:only-child::after {width: 0;}#sk-container-id-1 div.sk-dashed-wrapped {border: 1px dashed gray;margin: 0 0.4em 0.5em 0.4em;box-sizing: border-box;padding-bottom: 0.4em;background-color: white;}#sk-container-id-1 div.sk-label label {font-family: monospace;font-weight: bold;display: inline-block;line-height: 1.2em;}#sk-container-id-1 div.sk-label-container {text-align: center;}#sk-container-id-1 div.sk-container {/* jupyter's `normalize.less` sets `[hidden] { display: none; }` but bootstrap.min.css set `[hidden] { display: none !important; }` so we also need the `!important` here to be able to override the default hidden behavior on the sphinx rendered scikit-learn.org. See: https://github.com/scikit-learn/scikit-learn/issues/21755 */display: inline-block !important;position: relative;}#sk-container-id-1 div.sk-text-repr-fallback {display: none;}</style><div id=\"sk-container-id-1\" class=\"sk-top-container\"><div class=\"sk-text-repr-fallback\"><pre>LogisticRegression(max_iter=1000)</pre><b>In a Jupyter environment, please rerun this cell to show the HTML representation or trust the notebook. <br />On GitHub, the HTML representation is unable to render, please try loading this page with nbviewer.org.</b></div><div class=\"sk-container\" hidden><div class=\"sk-item\"><div class=\"sk-estimator sk-toggleable\"><input class=\"sk-toggleable__control sk-hidden--visually\" id=\"sk-estimator-id-1\" type=\"checkbox\" checked><label for=\"sk-estimator-id-1\" class=\"sk-toggleable__label sk-toggleable__label-arrow\">LogisticRegression</label><div class=\"sk-toggleable__content\"><pre>LogisticRegression(max_iter=1000)</pre></div></div></div></div></div>"
      ],
      "text/plain": [
       "LogisticRegression(max_iter=1000)"
      ]
     },
     "execution_count": 18,
     "metadata": {},
     "output_type": "execute_result"
    }
   ],
   "source": [
    "model = LogisticRegression(max_iter=1000)\n",
    "model.fit(X_train, y_train)\n"
   ]
  },
  {
   "cell_type": "markdown",
   "metadata": {},
   "source": [
    "# EVALUATE THE MODEL"
   ]
  },
  {
   "cell_type": "code",
   "execution_count": 19,
   "metadata": {},
   "outputs": [
    {
     "name": "stdout",
     "output_type": "stream",
     "text": [
      "Accuracy: 0.96\n",
      "              precision    recall  f1-score   support\n",
      "\n",
      "           0       1.00      1.00      1.00        15\n",
      "           1       0.94      0.94      0.94        16\n",
      "           2       0.93      0.93      0.93        14\n",
      "\n",
      "    accuracy                           0.96        45\n",
      "   macro avg       0.96      0.96      0.96        45\n",
      "weighted avg       0.96      0.96      0.96        45\n",
      "\n"
     ]
    }
   ],
   "source": [
    "y_pred = model.predict(X_test)\n",
    "\n",
    "accuracy = accuracy_score(y_test, y_pred)\n",
    "print(f\"Accuracy: {accuracy:.2f}\")\n",
    "\n",
    "print(classification_report(y_test, y_pred))\n"
   ]
  },
  {
   "cell_type": "code",
   "execution_count": 20,
   "metadata": {},
   "outputs": [],
   "source": [
    "import tensorflow as tf\n",
    "from tensorflow.keras.models import Sequential\n",
    "from tensorflow.keras.layers import Dense\n"
   ]
  },
  {
   "cell_type": "code",
   "execution_count": 21,
   "metadata": {},
   "outputs": [],
   "source": [
    "from sklearn.preprocessing import LabelEncoder\n",
    "\n",
    "label_encoder = LabelEncoder()\n",
    "y = label_encoder.fit_transform(y)\n"
   ]
  },
  {
   "cell_type": "markdown",
   "metadata": {},
   "source": [
    "# BUILD and TRAIN NEUTRAL NETWORK"
   ]
  },
  {
   "cell_type": "code",
   "execution_count": 22,
   "metadata": {},
   "outputs": [
    {
     "name": "stdout",
     "output_type": "stream",
     "text": [
      "Epoch 1/100\n",
      "4/4 [==============================] - 1s 7ms/step - loss: 1.2696 - accuracy: 0.3429\n",
      "Epoch 2/100\n",
      "4/4 [==============================] - 0s 5ms/step - loss: 1.2467 - accuracy: 0.3714\n",
      "Epoch 3/100\n",
      "4/4 [==============================] - 0s 6ms/step - loss: 1.2244 - accuracy: 0.4000\n",
      "Epoch 4/100\n",
      "4/4 [==============================] - 0s 8ms/step - loss: 1.2029 - accuracy: 0.4286\n",
      "Epoch 5/100\n",
      "4/4 [==============================] - 0s 7ms/step - loss: 1.1842 - accuracy: 0.4857\n",
      "Epoch 6/100\n",
      "4/4 [==============================] - 0s 5ms/step - loss: 1.1645 - accuracy: 0.4667\n",
      "Epoch 7/100\n",
      "4/4 [==============================] - 0s 6ms/step - loss: 1.1466 - accuracy: 0.4476\n",
      "Epoch 8/100\n",
      "4/4 [==============================] - 0s 8ms/step - loss: 1.1300 - accuracy: 0.4571\n",
      "Epoch 9/100\n",
      "4/4 [==============================] - 0s 7ms/step - loss: 1.1138 - accuracy: 0.4667\n",
      "Epoch 10/100\n",
      "4/4 [==============================] - 0s 6ms/step - loss: 1.0976 - accuracy: 0.4857\n",
      "Epoch 11/100\n",
      "4/4 [==============================] - 0s 7ms/step - loss: 1.0835 - accuracy: 0.4857\n",
      "Epoch 12/100\n",
      "4/4 [==============================] - 0s 7ms/step - loss: 1.0689 - accuracy: 0.4952\n",
      "Epoch 13/100\n",
      "4/4 [==============================] - 0s 7ms/step - loss: 1.0565 - accuracy: 0.5238\n",
      "Epoch 14/100\n",
      "4/4 [==============================] - 0s 6ms/step - loss: 1.0433 - accuracy: 0.5238\n",
      "Epoch 15/100\n",
      "4/4 [==============================] - 0s 8ms/step - loss: 1.0311 - accuracy: 0.5238\n",
      "Epoch 16/100\n",
      "4/4 [==============================] - 0s 6ms/step - loss: 1.0200 - accuracy: 0.5143\n",
      "Epoch 17/100\n",
      "4/4 [==============================] - 0s 6ms/step - loss: 1.0086 - accuracy: 0.5143\n",
      "Epoch 18/100\n",
      "4/4 [==============================] - 0s 6ms/step - loss: 0.9979 - accuracy: 0.5143\n",
      "Epoch 19/100\n",
      "4/4 [==============================] - 0s 6ms/step - loss: 0.9875 - accuracy: 0.5238\n",
      "Epoch 20/100\n",
      "4/4 [==============================] - 0s 7ms/step - loss: 0.9773 - accuracy: 0.5143\n",
      "Epoch 21/100\n",
      "4/4 [==============================] - 0s 6ms/step - loss: 0.9673 - accuracy: 0.5238\n",
      "Epoch 22/100\n",
      "4/4 [==============================] - 0s 6ms/step - loss: 0.9573 - accuracy: 0.5429\n",
      "Epoch 23/100\n",
      "4/4 [==============================] - 0s 11ms/step - loss: 0.9478 - accuracy: 0.5429\n",
      "Epoch 24/100\n",
      "4/4 [==============================] - 0s 6ms/step - loss: 0.9378 - accuracy: 0.5619\n",
      "Epoch 25/100\n",
      "4/4 [==============================] - 0s 6ms/step - loss: 0.9285 - accuracy: 0.5619\n",
      "Epoch 26/100\n",
      "4/4 [==============================] - 0s 6ms/step - loss: 0.9188 - accuracy: 0.6000\n",
      "Epoch 27/100\n",
      "4/4 [==============================] - 0s 7ms/step - loss: 0.9089 - accuracy: 0.6190\n",
      "Epoch 28/100\n",
      "4/4 [==============================] - 0s 8ms/step - loss: 0.8991 - accuracy: 0.6762\n",
      "Epoch 29/100\n",
      "4/4 [==============================] - 0s 7ms/step - loss: 0.8891 - accuracy: 0.6952\n",
      "Epoch 30/100\n",
      "4/4 [==============================] - 0s 7ms/step - loss: 0.8788 - accuracy: 0.7429\n",
      "Epoch 31/100\n",
      "4/4 [==============================] - 0s 6ms/step - loss: 0.8685 - accuracy: 0.7905\n",
      "Epoch 32/100\n",
      "4/4 [==============================] - 0s 6ms/step - loss: 0.8577 - accuracy: 0.8095\n",
      "Epoch 33/100\n",
      "4/4 [==============================] - 0s 7ms/step - loss: 0.8461 - accuracy: 0.7905\n",
      "Epoch 34/100\n",
      "4/4 [==============================] - 0s 6ms/step - loss: 0.8345 - accuracy: 0.7810\n",
      "Epoch 35/100\n",
      "4/4 [==============================] - 0s 6ms/step - loss: 0.8221 - accuracy: 0.7810\n",
      "Epoch 36/100\n",
      "4/4 [==============================] - 0s 6ms/step - loss: 0.8085 - accuracy: 0.8000\n",
      "Epoch 37/100\n",
      "4/4 [==============================] - 0s 5ms/step - loss: 0.7943 - accuracy: 0.8000\n",
      "Epoch 38/100\n",
      "4/4 [==============================] - 0s 6ms/step - loss: 0.7796 - accuracy: 0.8190\n",
      "Epoch 39/100\n",
      "4/4 [==============================] - 0s 5ms/step - loss: 0.7642 - accuracy: 0.8381\n",
      "Epoch 40/100\n",
      "4/4 [==============================] - 0s 5ms/step - loss: 0.7487 - accuracy: 0.8381\n",
      "Epoch 41/100\n",
      "4/4 [==============================] - 0s 5ms/step - loss: 0.7317 - accuracy: 0.8571\n",
      "Epoch 42/100\n",
      "4/4 [==============================] - 0s 4ms/step - loss: 0.7150 - accuracy: 0.8762\n",
      "Epoch 43/100\n",
      "4/4 [==============================] - 0s 6ms/step - loss: 0.6980 - accuracy: 0.8762\n",
      "Epoch 44/100\n",
      "4/4 [==============================] - 0s 5ms/step - loss: 0.6807 - accuracy: 0.8762\n",
      "Epoch 45/100\n",
      "4/4 [==============================] - 0s 6ms/step - loss: 0.6643 - accuracy: 0.8762\n",
      "Epoch 46/100\n",
      "4/4 [==============================] - 0s 6ms/step - loss: 0.6470 - accuracy: 0.8762\n",
      "Epoch 47/100\n",
      "4/4 [==============================] - 0s 4ms/step - loss: 0.6305 - accuracy: 0.8762\n",
      "Epoch 48/100\n",
      "4/4 [==============================] - 0s 6ms/step - loss: 0.6141 - accuracy: 0.8762\n",
      "Epoch 49/100\n",
      "4/4 [==============================] - 0s 4ms/step - loss: 0.5979 - accuracy: 0.8762\n",
      "Epoch 50/100\n",
      "4/4 [==============================] - 0s 4ms/step - loss: 0.5814 - accuracy: 0.8762\n",
      "Epoch 51/100\n",
      "4/4 [==============================] - 0s 5ms/step - loss: 0.5652 - accuracy: 0.8762\n",
      "Epoch 52/100\n",
      "4/4 [==============================] - 0s 4ms/step - loss: 0.5502 - accuracy: 0.8762\n",
      "Epoch 53/100\n",
      "4/4 [==============================] - 0s 5ms/step - loss: 0.5356 - accuracy: 0.8762\n",
      "Epoch 54/100\n",
      "4/4 [==============================] - 0s 3ms/step - loss: 0.5210 - accuracy: 0.8762\n",
      "Epoch 55/100\n",
      "4/4 [==============================] - 0s 6ms/step - loss: 0.5063 - accuracy: 0.8762\n",
      "Epoch 56/100\n",
      "4/4 [==============================] - 0s 4ms/step - loss: 0.4931 - accuracy: 0.8762\n",
      "Epoch 57/100\n",
      "4/4 [==============================] - 0s 6ms/step - loss: 0.4795 - accuracy: 0.8762\n",
      "Epoch 58/100\n",
      "4/4 [==============================] - 0s 4ms/step - loss: 0.4671 - accuracy: 0.8762\n",
      "Epoch 59/100\n",
      "4/4 [==============================] - 0s 5ms/step - loss: 0.4547 - accuracy: 0.8762\n",
      "Epoch 60/100\n",
      "4/4 [==============================] - 0s 4ms/step - loss: 0.4430 - accuracy: 0.8762\n",
      "Epoch 61/100\n",
      "4/4 [==============================] - 0s 4ms/step - loss: 0.4317 - accuracy: 0.8762\n",
      "Epoch 62/100\n",
      "4/4 [==============================] - 0s 4ms/step - loss: 0.4211 - accuracy: 0.8762\n",
      "Epoch 63/100\n",
      "4/4 [==============================] - 0s 4ms/step - loss: 0.4110 - accuracy: 0.8857\n",
      "Epoch 64/100\n",
      "4/4 [==============================] - 0s 4ms/step - loss: 0.4012 - accuracy: 0.8857\n",
      "Epoch 65/100\n",
      "4/4 [==============================] - 0s 4ms/step - loss: 0.3925 - accuracy: 0.8857\n",
      "Epoch 66/100\n",
      "4/4 [==============================] - 0s 4ms/step - loss: 0.3831 - accuracy: 0.8857\n",
      "Epoch 67/100\n",
      "4/4 [==============================] - 0s 3ms/step - loss: 0.3750 - accuracy: 0.8857\n",
      "Epoch 68/100\n",
      "4/4 [==============================] - 0s 4ms/step - loss: 0.3666 - accuracy: 0.8857\n",
      "Epoch 69/100\n",
      "4/4 [==============================] - 0s 4ms/step - loss: 0.3591 - accuracy: 0.8857\n",
      "Epoch 70/100\n",
      "4/4 [==============================] - 0s 4ms/step - loss: 0.3520 - accuracy: 0.8857\n",
      "Epoch 71/100\n",
      "4/4 [==============================] - 0s 4ms/step - loss: 0.3445 - accuracy: 0.8857\n",
      "Epoch 72/100\n",
      "4/4 [==============================] - 0s 4ms/step - loss: 0.3377 - accuracy: 0.8857\n",
      "Epoch 73/100\n",
      "4/4 [==============================] - 0s 4ms/step - loss: 0.3312 - accuracy: 0.8857\n",
      "Epoch 74/100\n",
      "4/4 [==============================] - 0s 4ms/step - loss: 0.3250 - accuracy: 0.8857\n",
      "Epoch 75/100\n",
      "4/4 [==============================] - 0s 3ms/step - loss: 0.3191 - accuracy: 0.8857\n",
      "Epoch 76/100\n",
      "4/4 [==============================] - 0s 5ms/step - loss: 0.3127 - accuracy: 0.9143\n",
      "Epoch 77/100\n",
      "4/4 [==============================] - 0s 3ms/step - loss: 0.3073 - accuracy: 0.9238\n",
      "Epoch 78/100\n",
      "4/4 [==============================] - 0s 4ms/step - loss: 0.3016 - accuracy: 0.9333\n",
      "Epoch 79/100\n",
      "4/4 [==============================] - 0s 3ms/step - loss: 0.2962 - accuracy: 0.9429\n",
      "Epoch 80/100\n",
      "4/4 [==============================] - 0s 5ms/step - loss: 0.2911 - accuracy: 0.9429\n",
      "Epoch 81/100\n",
      "4/4 [==============================] - 0s 4ms/step - loss: 0.2861 - accuracy: 0.9429\n",
      "Epoch 82/100\n",
      "4/4 [==============================] - 0s 4ms/step - loss: 0.2811 - accuracy: 0.9429\n",
      "Epoch 83/100\n",
      "4/4 [==============================] - 0s 4ms/step - loss: 0.2763 - accuracy: 0.9429\n",
      "Epoch 84/100\n",
      "4/4 [==============================] - 0s 5ms/step - loss: 0.2720 - accuracy: 0.9429\n",
      "Epoch 85/100\n",
      "4/4 [==============================] - 0s 3ms/step - loss: 0.2676 - accuracy: 0.9429\n",
      "Epoch 86/100\n",
      "4/4 [==============================] - 0s 4ms/step - loss: 0.2631 - accuracy: 0.9429\n",
      "Epoch 87/100\n",
      "4/4 [==============================] - 0s 4ms/step - loss: 0.2589 - accuracy: 0.9429\n",
      "Epoch 88/100\n",
      "4/4 [==============================] - 0s 5ms/step - loss: 0.2550 - accuracy: 0.9429\n",
      "Epoch 89/100\n",
      "4/4 [==============================] - 0s 4ms/step - loss: 0.2508 - accuracy: 0.9524\n",
      "Epoch 90/100\n",
      "4/4 [==============================] - 0s 4ms/step - loss: 0.2469 - accuracy: 0.9524\n",
      "Epoch 91/100\n",
      "4/4 [==============================] - 0s 3ms/step - loss: 0.2432 - accuracy: 0.9524\n",
      "Epoch 92/100\n",
      "4/4 [==============================] - 0s 4ms/step - loss: 0.2392 - accuracy: 0.9524\n",
      "Epoch 93/100\n",
      "4/4 [==============================] - 0s 4ms/step - loss: 0.2358 - accuracy: 0.9524\n",
      "Epoch 94/100\n",
      "4/4 [==============================] - 0s 4ms/step - loss: 0.2320 - accuracy: 0.9524\n",
      "Epoch 95/100\n",
      "4/4 [==============================] - 0s 4ms/step - loss: 0.2287 - accuracy: 0.9524\n",
      "Epoch 96/100\n",
      "4/4 [==============================] - 0s 3ms/step - loss: 0.2255 - accuracy: 0.9524\n",
      "Epoch 97/100\n",
      "4/4 [==============================] - 0s 3ms/step - loss: 0.2218 - accuracy: 0.9524\n",
      "Epoch 98/100\n",
      "4/4 [==============================] - 0s 3ms/step - loss: 0.2187 - accuracy: 0.9524\n",
      "Epoch 99/100\n",
      "4/4 [==============================] - 0s 4ms/step - loss: 0.2159 - accuracy: 0.9524\n",
      "Epoch 100/100\n",
      "4/4 [==============================] - 0s 4ms/step - loss: 0.2125 - accuracy: 0.9524\n"
     ]
    },
    {
     "data": {
      "text/plain": [
       "<keras.src.callbacks.History at 0x249a4007c90>"
      ]
     },
     "execution_count": 22,
     "metadata": {},
     "output_type": "execute_result"
    }
   ],
   "source": [
    "model = Sequential([\n",
    "    Dense(10, activation='relu', input_shape=(4,)),\n",
    "    Dense(8, activation='relu'),\n",
    "    Dense(3, activation='softmax')\n",
    "])\n",
    "\n",
    "model.compile(optimizer='adam', loss='sparse_categorical_crossentropy', metrics=['accuracy'])\n",
    "\n",
    "model.fit(X_train, y_train, epochs=100, batch_size=32, verbose=1)\n"
   ]
  },
  {
   "cell_type": "markdown",
   "metadata": {},
   "source": [
    "# Evaluate the model "
   ]
  },
  {
   "cell_type": "code",
   "execution_count": 23,
   "metadata": {},
   "outputs": [
    {
     "name": "stdout",
     "output_type": "stream",
     "text": [
      "Accuracy: 0.93\n"
     ]
    }
   ],
   "source": [
    "\n",
    "loss, accuracy = model.evaluate(X_test, y_test, verbose=0)\n",
    "print(f\"Accuracy: {accuracy:.2f}\")\n"
   ]
  },
  {
   "cell_type": "code",
   "execution_count": 33,
   "metadata": {},
   "outputs": [
    {
     "data": {
      "text/html": [
       "<div>\n",
       "<style scoped>\n",
       "    .dataframe tbody tr th:only-of-type {\n",
       "        vertical-align: middle;\n",
       "    }\n",
       "\n",
       "    .dataframe tbody tr th {\n",
       "        vertical-align: top;\n",
       "    }\n",
       "\n",
       "    .dataframe thead th {\n",
       "        text-align: right;\n",
       "    }\n",
       "</style>\n",
       "<table border=\"1\" class=\"dataframe\">\n",
       "  <thead>\n",
       "    <tr style=\"text-align: right;\">\n",
       "      <th></th>\n",
       "      <th>Actual</th>\n",
       "      <th>Predicted</th>\n",
       "    </tr>\n",
       "  </thead>\n",
       "  <tbody>\n",
       "    <tr>\n",
       "      <th>0</th>\n",
       "      <td>1</td>\n",
       "      <td>1</td>\n",
       "    </tr>\n",
       "    <tr>\n",
       "      <th>1</th>\n",
       "      <td>2</td>\n",
       "      <td>2</td>\n",
       "    </tr>\n",
       "    <tr>\n",
       "      <th>2</th>\n",
       "      <td>2</td>\n",
       "      <td>2</td>\n",
       "    </tr>\n",
       "    <tr>\n",
       "      <th>3</th>\n",
       "      <td>0</td>\n",
       "      <td>0</td>\n",
       "    </tr>\n",
       "    <tr>\n",
       "      <th>4</th>\n",
       "      <td>2</td>\n",
       "      <td>2</td>\n",
       "    </tr>\n",
       "  </tbody>\n",
       "</table>\n",
       "</div>"
      ],
      "text/plain": [
       "   Actual  Predicted\n",
       "0       1          1\n",
       "1       2          2\n",
       "2       2          2\n",
       "3       0          0\n",
       "4       2          2"
      ]
     },
     "execution_count": 33,
     "metadata": {},
     "output_type": "execute_result"
    }
   ],
   "source": [
    "df2=pd.DataFrame({'Actual':y_test, 'Predicted':y_pred})\n",
    "df2.head()"
   ]
  }
 ],
 "metadata": {
  "kernelspec": {
   "display_name": "Python 3 (ipykernel)",
   "language": "python",
   "name": "python3"
  },
  "language_info": {
   "codemirror_mode": {
    "name": "ipython",
    "version": 3
   },
   "file_extension": ".py",
   "mimetype": "text/x-python",
   "name": "python",
   "nbconvert_exporter": "python",
   "pygments_lexer": "ipython3",
   "version": "3.11.4"
  }
 },
 "nbformat": 4,
 "nbformat_minor": 4
}
